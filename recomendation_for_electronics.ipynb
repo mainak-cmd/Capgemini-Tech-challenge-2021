{
 "cells": [
  {
   "cell_type": "code",
   "execution_count": 206,
   "metadata": {},
   "outputs": [],
   "source": [
    "import pandas as pd\n",
    "import numpy as np\n",
    "from scipy.sparse import csr_matrix\n",
    "from sklearn.neighbors import NearestNeighbors\n",
    "from sklearn import preprocessing"
   ]
  },
  {
   "cell_type": "code",
   "execution_count": 207,
   "metadata": {},
   "outputs": [],
   "source": [
    "#Load Dataset"
   ]
  },
  {
   "cell_type": "code",
   "execution_count": 208,
   "metadata": {},
   "outputs": [],
   "source": [
    "df = pd.read_csv ('electronics_preprocess.csv')\n",
    "df=df.dropna(axis=0, how='any', thresh=None, subset=None, inplace=False)"
   ]
  },
  {
   "cell_type": "code",
   "execution_count": 209,
   "metadata": {},
   "outputs": [
    {
     "data": {
      "text/html": [
       "<div>\n",
       "<style scoped>\n",
       "    .dataframe tbody tr th:only-of-type {\n",
       "        vertical-align: middle;\n",
       "    }\n",
       "\n",
       "    .dataframe tbody tr th {\n",
       "        vertical-align: top;\n",
       "    }\n",
       "\n",
       "    .dataframe thead th {\n",
       "        text-align: right;\n",
       "    }\n",
       "</style>\n",
       "<table border=\"1\" class=\"dataframe\">\n",
       "  <thead>\n",
       "    <tr style=\"text-align: right;\">\n",
       "      <th></th>\n",
       "      <th>item_id</th>\n",
       "      <th>user_id</th>\n",
       "      <th>rating</th>\n",
       "      <th>category</th>\n",
       "      <th>brand</th>\n",
       "    </tr>\n",
       "  </thead>\n",
       "  <tbody>\n",
       "    <tr>\n",
       "      <th>14</th>\n",
       "      <td>1</td>\n",
       "      <td>14</td>\n",
       "      <td>4</td>\n",
       "      <td>Computers &amp; Accessories</td>\n",
       "      <td>HP</td>\n",
       "    </tr>\n",
       "    <tr>\n",
       "      <th>42</th>\n",
       "      <td>1</td>\n",
       "      <td>42</td>\n",
       "      <td>5</td>\n",
       "      <td>Computers &amp; Accessories</td>\n",
       "      <td>HP</td>\n",
       "    </tr>\n",
       "  </tbody>\n",
       "</table>\n",
       "</div>"
      ],
      "text/plain": [
       "    item_id  user_id  rating                 category brand\n",
       "14        1       14       4  Computers & Accessories    HP\n",
       "42        1       42       5  Computers & Accessories    HP"
      ]
     },
     "execution_count": 209,
     "metadata": {},
     "output_type": "execute_result"
    }
   ],
   "source": [
    "df.head(2)"
   ]
  },
  {
   "cell_type": "code",
   "execution_count": 210,
   "metadata": {},
   "outputs": [],
   "source": [
    "#charecter encodeing"
   ]
  },
  {
   "cell_type": "code",
   "execution_count": 211,
   "metadata": {},
   "outputs": [],
   "source": [
    "le = preprocessing.LabelEncoder()\n",
    "le1=preprocessing.LabelEncoder()\n",
    "df['labelencoded_category']=le.fit_transform(list(df['category']))\n",
    "df['labelencoded_Brand']=le1.fit_transform(list(df['brand']))\n"
   ]
  },
  {
   "cell_type": "code",
   "execution_count": 212,
   "metadata": {},
   "outputs": [
    {
     "data": {
      "text/html": [
       "<div>\n",
       "<style scoped>\n",
       "    .dataframe tbody tr th:only-of-type {\n",
       "        vertical-align: middle;\n",
       "    }\n",
       "\n",
       "    .dataframe tbody tr th {\n",
       "        vertical-align: top;\n",
       "    }\n",
       "\n",
       "    .dataframe thead th {\n",
       "        text-align: right;\n",
       "    }\n",
       "</style>\n",
       "<table border=\"1\" class=\"dataframe\">\n",
       "  <thead>\n",
       "    <tr style=\"text-align: right;\">\n",
       "      <th></th>\n",
       "      <th>item_id</th>\n",
       "      <th>user_id</th>\n",
       "      <th>rating</th>\n",
       "      <th>category</th>\n",
       "      <th>brand</th>\n",
       "      <th>labelencoded_category</th>\n",
       "      <th>labelencoded_Brand</th>\n",
       "    </tr>\n",
       "  </thead>\n",
       "  <tbody>\n",
       "    <tr>\n",
       "      <th>14</th>\n",
       "      <td>1</td>\n",
       "      <td>14</td>\n",
       "      <td>4</td>\n",
       "      <td>Computers &amp; Accessories</td>\n",
       "      <td>HP</td>\n",
       "      <td>3</td>\n",
       "      <td>16</td>\n",
       "    </tr>\n",
       "    <tr>\n",
       "      <th>42</th>\n",
       "      <td>1</td>\n",
       "      <td>42</td>\n",
       "      <td>5</td>\n",
       "      <td>Computers &amp; Accessories</td>\n",
       "      <td>HP</td>\n",
       "      <td>3</td>\n",
       "      <td>16</td>\n",
       "    </tr>\n",
       "  </tbody>\n",
       "</table>\n",
       "</div>"
      ],
      "text/plain": [
       "    item_id  user_id  rating                 category brand  \\\n",
       "14        1       14       4  Computers & Accessories    HP   \n",
       "42        1       42       5  Computers & Accessories    HP   \n",
       "\n",
       "    labelencoded_category  labelencoded_Brand  \n",
       "14                      3                  16  \n",
       "42                      3                  16  "
      ]
     },
     "execution_count": 212,
     "metadata": {},
     "output_type": "execute_result"
    }
   ],
   "source": [
    "df.head(2)"
   ]
  },
  {
   "cell_type": "code",
   "execution_count": 213,
   "metadata": {},
   "outputs": [],
   "source": [
    "#pivot for category vs user Id"
   ]
  },
  {
   "cell_type": "code",
   "execution_count": 214,
   "metadata": {},
   "outputs": [
    {
     "data": {
      "text/html": [
       "<div>\n",
       "<style scoped>\n",
       "    .dataframe tbody tr th:only-of-type {\n",
       "        vertical-align: middle;\n",
       "    }\n",
       "\n",
       "    .dataframe tbody tr th {\n",
       "        vertical-align: top;\n",
       "    }\n",
       "\n",
       "    .dataframe thead th {\n",
       "        text-align: right;\n",
       "    }\n",
       "</style>\n",
       "<table border=\"1\" class=\"dataframe\">\n",
       "  <thead>\n",
       "    <tr style=\"text-align: right;\">\n",
       "      <th>user_id</th>\n",
       "      <th>14</th>\n",
       "      <th>28</th>\n",
       "      <th>42</th>\n",
       "      <th>62</th>\n",
       "      <th>63</th>\n",
       "      <th>75</th>\n",
       "      <th>76</th>\n",
       "      <th>77</th>\n",
       "      <th>96</th>\n",
       "      <th>104</th>\n",
       "      <th>...</th>\n",
       "      <th>941808</th>\n",
       "      <th>941810</th>\n",
       "      <th>941815</th>\n",
       "      <th>941821</th>\n",
       "      <th>941832</th>\n",
       "      <th>941842</th>\n",
       "      <th>941843</th>\n",
       "      <th>941850</th>\n",
       "      <th>941854</th>\n",
       "      <th>941858</th>\n",
       "    </tr>\n",
       "    <tr>\n",
       "      <th>category</th>\n",
       "      <th></th>\n",
       "      <th></th>\n",
       "      <th></th>\n",
       "      <th></th>\n",
       "      <th></th>\n",
       "      <th></th>\n",
       "      <th></th>\n",
       "      <th></th>\n",
       "      <th></th>\n",
       "      <th></th>\n",
       "      <th></th>\n",
       "      <th></th>\n",
       "      <th></th>\n",
       "      <th></th>\n",
       "      <th></th>\n",
       "      <th></th>\n",
       "      <th></th>\n",
       "      <th></th>\n",
       "      <th></th>\n",
       "      <th></th>\n",
       "      <th></th>\n",
       "    </tr>\n",
       "  </thead>\n",
       "  <tbody>\n",
       "    <tr>\n",
       "      <th>Accessories &amp; Supplies</th>\n",
       "      <td>0.0</td>\n",
       "      <td>0.0</td>\n",
       "      <td>0.0</td>\n",
       "      <td>0.0</td>\n",
       "      <td>0.0</td>\n",
       "      <td>0.0</td>\n",
       "      <td>0.0</td>\n",
       "      <td>0.0</td>\n",
       "      <td>0.0</td>\n",
       "      <td>0.0</td>\n",
       "      <td>...</td>\n",
       "      <td>0.0</td>\n",
       "      <td>0.0</td>\n",
       "      <td>0.0</td>\n",
       "      <td>0.0</td>\n",
       "      <td>0.0</td>\n",
       "      <td>0.0</td>\n",
       "      <td>0.0</td>\n",
       "      <td>0.0</td>\n",
       "      <td>0.0</td>\n",
       "      <td>0.0</td>\n",
       "    </tr>\n",
       "    <tr>\n",
       "      <th>Camera &amp; Photo</th>\n",
       "      <td>0.0</td>\n",
       "      <td>4.0</td>\n",
       "      <td>0.0</td>\n",
       "      <td>4.0</td>\n",
       "      <td>5.0</td>\n",
       "      <td>0.0</td>\n",
       "      <td>0.0</td>\n",
       "      <td>0.0</td>\n",
       "      <td>0.0</td>\n",
       "      <td>0.0</td>\n",
       "      <td>...</td>\n",
       "      <td>0.0</td>\n",
       "      <td>0.0</td>\n",
       "      <td>0.0</td>\n",
       "      <td>0.0</td>\n",
       "      <td>0.0</td>\n",
       "      <td>0.0</td>\n",
       "      <td>0.0</td>\n",
       "      <td>0.0</td>\n",
       "      <td>0.0</td>\n",
       "      <td>0.0</td>\n",
       "    </tr>\n",
       "    <tr>\n",
       "      <th>Car Electronics &amp; GPS</th>\n",
       "      <td>0.0</td>\n",
       "      <td>0.0</td>\n",
       "      <td>0.0</td>\n",
       "      <td>0.0</td>\n",
       "      <td>0.0</td>\n",
       "      <td>0.0</td>\n",
       "      <td>0.0</td>\n",
       "      <td>0.0</td>\n",
       "      <td>0.0</td>\n",
       "      <td>0.0</td>\n",
       "      <td>...</td>\n",
       "      <td>0.0</td>\n",
       "      <td>0.0</td>\n",
       "      <td>0.0</td>\n",
       "      <td>2.0</td>\n",
       "      <td>0.0</td>\n",
       "      <td>0.0</td>\n",
       "      <td>0.0</td>\n",
       "      <td>0.0</td>\n",
       "      <td>0.0</td>\n",
       "      <td>0.0</td>\n",
       "    </tr>\n",
       "  </tbody>\n",
       "</table>\n",
       "<p>3 rows × 261347 columns</p>\n",
       "</div>"
      ],
      "text/plain": [
       "user_id                 14      28      42      62      63      75      \\\n",
       "category                                                                 \n",
       "Accessories & Supplies     0.0     0.0     0.0     0.0     0.0     0.0   \n",
       "Camera & Photo             0.0     4.0     0.0     4.0     5.0     0.0   \n",
       "Car Electronics & GPS      0.0     0.0     0.0     0.0     0.0     0.0   \n",
       "\n",
       "user_id                 76      77      96      104     ...  941808  941810  \\\n",
       "category                                                ...                   \n",
       "Accessories & Supplies     0.0     0.0     0.0     0.0  ...     0.0     0.0   \n",
       "Camera & Photo             0.0     0.0     0.0     0.0  ...     0.0     0.0   \n",
       "Car Electronics & GPS      0.0     0.0     0.0     0.0  ...     0.0     0.0   \n",
       "\n",
       "user_id                 941815  941821  941832  941842  941843  941850  \\\n",
       "category                                                                 \n",
       "Accessories & Supplies     0.0     0.0     0.0     0.0     0.0     0.0   \n",
       "Camera & Photo             0.0     0.0     0.0     0.0     0.0     0.0   \n",
       "Car Electronics & GPS      0.0     2.0     0.0     0.0     0.0     0.0   \n",
       "\n",
       "user_id                 941854  941858  \n",
       "category                                \n",
       "Accessories & Supplies     0.0     0.0  \n",
       "Camera & Photo             0.0     0.0  \n",
       "Car Electronics & GPS      0.0     0.0  \n",
       "\n",
       "[3 rows x 261347 columns]"
      ]
     },
     "execution_count": 214,
     "metadata": {},
     "output_type": "execute_result"
    }
   ],
   "source": [
    "category_NAME = df.pivot_table(index='category',columns='user_id',values='rating').fillna(0)\n",
    "category_NAME.head(3)"
   ]
  },
  {
   "cell_type": "code",
   "execution_count": 215,
   "metadata": {},
   "outputs": [],
   "source": [
    "#user_input"
   ]
  },
  {
   "cell_type": "code",
   "execution_count": 216,
   "metadata": {},
   "outputs": [],
   "source": [
    "U_input=\"Home Audio\""
   ]
  },
  {
   "cell_type": "markdown",
   "metadata": {},
   "source": [
    "# Part_1: Recomendation of similar product/category.\n"
   ]
  },
  {
   "cell_type": "code",
   "execution_count": 217,
   "metadata": {},
   "outputs": [],
   "source": [
    "#procedure"
   ]
  },
  {
   "cell_type": "code",
   "execution_count": 218,
   "metadata": {},
   "outputs": [
    {
     "data": {
      "text/plain": [
       "array([5])"
      ]
     },
     "execution_count": 218,
     "metadata": {},
     "output_type": "execute_result"
    }
   ],
   "source": [
    "\n",
    "User_input=le.transform([U_input])\n",
    "User_input"
   ]
  },
  {
   "cell_type": "code",
   "execution_count": 219,
   "metadata": {},
   "outputs": [],
   "source": [
    "#fire user input Query to get the result"
   ]
  },
  {
   "cell_type": "code",
   "execution_count": 220,
   "metadata": {},
   "outputs": [],
   "source": [
    "query_point=category_NAME.iloc[User_input,:].values.reshape(1, -1)"
   ]
  },
  {
   "cell_type": "code",
   "execution_count": 221,
   "metadata": {},
   "outputs": [],
   "source": [
    "#prepare unsuperviced learning  model"
   ]
  },
  {
   "cell_type": "code",
   "execution_count": 222,
   "metadata": {},
   "outputs": [
    {
     "data": {
      "text/plain": [
       "NearestNeighbors(algorithm='brute', metric='cosine')"
      ]
     },
     "execution_count": 222,
     "metadata": {},
     "output_type": "execute_result"
    }
   ],
   "source": [
    "category_NAME_matrix = csr_matrix(category_NAME.values)\n",
    "model_knn = NearestNeighbors(metric = 'cosine', algorithm = 'brute')\n",
    "model_knn.fit(category_NAME_matrix)"
   ]
  },
  {
   "cell_type": "markdown",
   "metadata": {},
   "source": [
    "Findout cosine distance of other categories and indices with respect to the quary point ,\n",
    "Minimum distance have maximum likelyhood for similar product recomendation"
   ]
  },
  {
   "cell_type": "code",
   "execution_count": 223,
   "metadata": {},
   "outputs": [],
   "source": [
    "distances, indices = model_knn.kneighbors(query_point, n_neighbors = 6)"
   ]
  },
  {
   "cell_type": "code",
   "execution_count": 224,
   "metadata": {},
   "outputs": [
    {
     "name": "stdout",
     "output_type": "stream",
     "text": [
      "Recommendations for Index(['Home Audio'], dtype='object', name='category'):\n",
      "\n",
      "1: Headphones, with distance of 0.9913037947242741:\n",
      "2: Computers & Accessories, with distance of 0.9954123435122597:\n",
      "3: Portable Audio & Video, with distance of 0.9957620192394002:\n",
      "4: Accessories & Supplies, with distance of 0.9963755189165474:\n",
      "5: Camera & Photo, with distance of 0.9966187432977444:\n"
     ]
    }
   ],
   "source": [
    "for i in range(0, len(distances.flatten())):\n",
    "    if i == 0:\n",
    "        print('Recommendations for {0}:\\n'.format(category_NAME.index[User_input]))\n",
    "    else:\n",
    "        print('{0}: {1}, with distance of {2}:'.format(i,category_NAME.index[indices.flatten()[i]], distances.flatten()[i]))\n",
    "        "
   ]
  },
  {
   "cell_type": "markdown",
   "metadata": {},
   "source": [
    "#list down similar category"
   ]
  },
  {
   "cell_type": "code",
   "execution_count": 225,
   "metadata": {},
   "outputs": [],
   "source": [
    "l2=[]\n",
    "for i in range(0, len(distances.flatten())):\n",
    "    l1=category_NAME.index[indices.flatten()[i]].split(',')\n",
    "    l2.append(l1)\n",
    "    \n",
    "        "
   ]
  },
  {
   "cell_type": "code",
   "execution_count": 226,
   "metadata": {},
   "outputs": [],
   "source": [
    "l2 =pd.DataFrame(l2,columns=['category'])\n"
   ]
  },
  {
   "cell_type": "code",
   "execution_count": 227,
   "metadata": {},
   "outputs": [
    {
     "data": {
      "text/html": [
       "<div>\n",
       "<style scoped>\n",
       "    .dataframe tbody tr th:only-of-type {\n",
       "        vertical-align: middle;\n",
       "    }\n",
       "\n",
       "    .dataframe tbody tr th {\n",
       "        vertical-align: top;\n",
       "    }\n",
       "\n",
       "    .dataframe thead th {\n",
       "        text-align: right;\n",
       "    }\n",
       "</style>\n",
       "<table border=\"1\" class=\"dataframe\">\n",
       "  <thead>\n",
       "    <tr style=\"text-align: right;\">\n",
       "      <th></th>\n",
       "      <th>category</th>\n",
       "    </tr>\n",
       "  </thead>\n",
       "  <tbody>\n",
       "    <tr>\n",
       "      <th>0</th>\n",
       "      <td>Home Audio</td>\n",
       "    </tr>\n",
       "    <tr>\n",
       "      <th>1</th>\n",
       "      <td>Headphones</td>\n",
       "    </tr>\n",
       "    <tr>\n",
       "      <th>2</th>\n",
       "      <td>Computers &amp; Accessories</td>\n",
       "    </tr>\n",
       "    <tr>\n",
       "      <th>3</th>\n",
       "      <td>Portable Audio &amp; Video</td>\n",
       "    </tr>\n",
       "    <tr>\n",
       "      <th>4</th>\n",
       "      <td>Accessories &amp; Supplies</td>\n",
       "    </tr>\n",
       "    <tr>\n",
       "      <th>5</th>\n",
       "      <td>Camera &amp; Photo</td>\n",
       "    </tr>\n",
       "  </tbody>\n",
       "</table>\n",
       "</div>"
      ],
      "text/plain": [
       "                  category\n",
       "0               Home Audio\n",
       "1               Headphones\n",
       "2  Computers & Accessories\n",
       "3   Portable Audio & Video\n",
       "4   Accessories & Supplies\n",
       "5           Camera & Photo"
      ]
     },
     "execution_count": 227,
     "metadata": {},
     "output_type": "execute_result"
    }
   ],
   "source": [
    "l2 "
   ]
  },
  {
   "cell_type": "markdown",
   "metadata": {},
   "source": [
    "# Part_2:recomendation of similar brand for particular product/category as well as similar choice of products\n"
   ]
  },
  {
   "cell_type": "code",
   "execution_count": 228,
   "metadata": {},
   "outputs": [],
   "source": [
    "#Filter dataset with respect to user input"
   ]
  },
  {
   "cell_type": "code",
   "execution_count": 229,
   "metadata": {},
   "outputs": [],
   "source": [
    "df1=df[df['labelencoded_category']==User_input[0]]"
   ]
  },
  {
   "cell_type": "code",
   "execution_count": 230,
   "metadata": {},
   "outputs": [
    {
     "data": {
      "text/html": [
       "<div>\n",
       "<style scoped>\n",
       "    .dataframe tbody tr th:only-of-type {\n",
       "        vertical-align: middle;\n",
       "    }\n",
       "\n",
       "    .dataframe tbody tr th {\n",
       "        vertical-align: top;\n",
       "    }\n",
       "\n",
       "    .dataframe thead th {\n",
       "        text-align: right;\n",
       "    }\n",
       "</style>\n",
       "<table border=\"1\" class=\"dataframe\">\n",
       "  <thead>\n",
       "    <tr style=\"text-align: right;\">\n",
       "      <th></th>\n",
       "      <th>item_id</th>\n",
       "      <th>user_id</th>\n",
       "      <th>rating</th>\n",
       "      <th>category</th>\n",
       "      <th>brand</th>\n",
       "      <th>labelencoded_category</th>\n",
       "      <th>labelencoded_Brand</th>\n",
       "    </tr>\n",
       "  </thead>\n",
       "  <tbody>\n",
       "    <tr>\n",
       "      <th>127</th>\n",
       "      <td>7</td>\n",
       "      <td>127</td>\n",
       "      <td>4</td>\n",
       "      <td>Home Audio</td>\n",
       "      <td>Philips</td>\n",
       "      <td>5</td>\n",
       "      <td>32</td>\n",
       "    </tr>\n",
       "    <tr>\n",
       "      <th>131</th>\n",
       "      <td>7</td>\n",
       "      <td>131</td>\n",
       "      <td>4</td>\n",
       "      <td>Home Audio</td>\n",
       "      <td>Philips</td>\n",
       "      <td>5</td>\n",
       "      <td>32</td>\n",
       "    </tr>\n",
       "    <tr>\n",
       "      <th>134</th>\n",
       "      <td>7</td>\n",
       "      <td>134</td>\n",
       "      <td>5</td>\n",
       "      <td>Home Audio</td>\n",
       "      <td>Philips</td>\n",
       "      <td>5</td>\n",
       "      <td>32</td>\n",
       "    </tr>\n",
       "    <tr>\n",
       "      <th>138</th>\n",
       "      <td>7</td>\n",
       "      <td>138</td>\n",
       "      <td>4</td>\n",
       "      <td>Home Audio</td>\n",
       "      <td>Philips</td>\n",
       "      <td>5</td>\n",
       "      <td>32</td>\n",
       "    </tr>\n",
       "    <tr>\n",
       "      <th>147</th>\n",
       "      <td>7</td>\n",
       "      <td>147</td>\n",
       "      <td>5</td>\n",
       "      <td>Home Audio</td>\n",
       "      <td>Philips</td>\n",
       "      <td>5</td>\n",
       "      <td>32</td>\n",
       "    </tr>\n",
       "    <tr>\n",
       "      <th>...</th>\n",
       "      <td>...</td>\n",
       "      <td>...</td>\n",
       "      <td>...</td>\n",
       "      <td>...</td>\n",
       "      <td>...</td>\n",
       "      <td>...</td>\n",
       "      <td>...</td>\n",
       "    </tr>\n",
       "    <tr>\n",
       "      <th>1048472</th>\n",
       "      <td>8375</td>\n",
       "      <td>941768</td>\n",
       "      <td>1</td>\n",
       "      <td>Home Audio</td>\n",
       "      <td>TaoTronics</td>\n",
       "      <td>5</td>\n",
       "      <td>41</td>\n",
       "    </tr>\n",
       "    <tr>\n",
       "      <th>1048494</th>\n",
       "      <td>8375</td>\n",
       "      <td>941788</td>\n",
       "      <td>5</td>\n",
       "      <td>Home Audio</td>\n",
       "      <td>TaoTronics</td>\n",
       "      <td>5</td>\n",
       "      <td>41</td>\n",
       "    </tr>\n",
       "    <tr>\n",
       "      <th>1048562</th>\n",
       "      <td>1236</td>\n",
       "      <td>941850</td>\n",
       "      <td>5</td>\n",
       "      <td>Home Audio</td>\n",
       "      <td>Pyle</td>\n",
       "      <td>5</td>\n",
       "      <td>35</td>\n",
       "    </tr>\n",
       "    <tr>\n",
       "      <th>1048566</th>\n",
       "      <td>827</td>\n",
       "      <td>941854</td>\n",
       "      <td>5</td>\n",
       "      <td>Home Audio</td>\n",
       "      <td>Pyle</td>\n",
       "      <td>5</td>\n",
       "      <td>35</td>\n",
       "    </tr>\n",
       "    <tr>\n",
       "      <th>1048571</th>\n",
       "      <td>1236</td>\n",
       "      <td>941858</td>\n",
       "      <td>5</td>\n",
       "      <td>Home Audio</td>\n",
       "      <td>Pyle</td>\n",
       "      <td>5</td>\n",
       "      <td>35</td>\n",
       "    </tr>\n",
       "  </tbody>\n",
       "</table>\n",
       "<p>8742 rows × 7 columns</p>\n",
       "</div>"
      ],
      "text/plain": [
       "         item_id  user_id  rating    category       brand  \\\n",
       "127            7      127       4  Home Audio     Philips   \n",
       "131            7      131       4  Home Audio     Philips   \n",
       "134            7      134       5  Home Audio     Philips   \n",
       "138            7      138       4  Home Audio     Philips   \n",
       "147            7      147       5  Home Audio     Philips   \n",
       "...          ...      ...     ...         ...         ...   \n",
       "1048472     8375   941768       1  Home Audio  TaoTronics   \n",
       "1048494     8375   941788       5  Home Audio  TaoTronics   \n",
       "1048562     1236   941850       5  Home Audio        Pyle   \n",
       "1048566      827   941854       5  Home Audio        Pyle   \n",
       "1048571     1236   941858       5  Home Audio        Pyle   \n",
       "\n",
       "         labelencoded_category  labelencoded_Brand  \n",
       "127                          5                  32  \n",
       "131                          5                  32  \n",
       "134                          5                  32  \n",
       "138                          5                  32  \n",
       "147                          5                  32  \n",
       "...                        ...                 ...  \n",
       "1048472                      5                  41  \n",
       "1048494                      5                  41  \n",
       "1048562                      5                  35  \n",
       "1048566                      5                  35  \n",
       "1048571                      5                  35  \n",
       "\n",
       "[8742 rows x 7 columns]"
      ]
     },
     "execution_count": 230,
     "metadata": {},
     "output_type": "execute_result"
    }
   ],
   "source": [
    "df1"
   ]
  },
  {
   "cell_type": "markdown",
   "metadata": {},
   "source": [
    "#findout avarage rateing and no of rateing for each brand"
   ]
  },
  {
   "cell_type": "code",
   "execution_count": 231,
   "metadata": {},
   "outputs": [],
   "source": [
    "Avarage_ratings_brand = pd.DataFrame(df1.groupby('brand')['rating'].mean())\n",
    "Avarage_ratings_brand ['num of ratings'] = pd.DataFrame(df1.groupby('brand')['rating'].count())\n"
   ]
  },
  {
   "cell_type": "code",
   "execution_count": 232,
   "metadata": {},
   "outputs": [],
   "source": [
    "#name of Brand that is associated with user input category"
   ]
  },
  {
   "cell_type": "code",
   "execution_count": 233,
   "metadata": {},
   "outputs": [
    {
     "data": {
      "text/html": [
       "<div>\n",
       "<style scoped>\n",
       "    .dataframe tbody tr th:only-of-type {\n",
       "        vertical-align: middle;\n",
       "    }\n",
       "\n",
       "    .dataframe tbody tr th {\n",
       "        vertical-align: top;\n",
       "    }\n",
       "\n",
       "    .dataframe thead th {\n",
       "        text-align: right;\n",
       "    }\n",
       "</style>\n",
       "<table border=\"1\" class=\"dataframe\">\n",
       "  <thead>\n",
       "    <tr style=\"text-align: right;\">\n",
       "      <th></th>\n",
       "      <th>rating</th>\n",
       "      <th>num of ratings</th>\n",
       "    </tr>\n",
       "    <tr>\n",
       "      <th>brand</th>\n",
       "      <th></th>\n",
       "      <th></th>\n",
       "    </tr>\n",
       "  </thead>\n",
       "  <tbody>\n",
       "    <tr>\n",
       "      <th>Bose</th>\n",
       "      <td>4.118012</td>\n",
       "      <td>483</td>\n",
       "    </tr>\n",
       "    <tr>\n",
       "      <th>EldHus</th>\n",
       "      <td>4.505000</td>\n",
       "      <td>200</td>\n",
       "    </tr>\n",
       "    <tr>\n",
       "      <th>Fintie</th>\n",
       "      <td>4.777778</td>\n",
       "      <td>9</td>\n",
       "    </tr>\n",
       "    <tr>\n",
       "      <th>Logitech</th>\n",
       "      <td>4.166667</td>\n",
       "      <td>6</td>\n",
       "    </tr>\n",
       "    <tr>\n",
       "      <th>Philips</th>\n",
       "      <td>2.475000</td>\n",
       "      <td>40</td>\n",
       "    </tr>\n",
       "    <tr>\n",
       "      <th>Pyle</th>\n",
       "      <td>3.831787</td>\n",
       "      <td>3234</td>\n",
       "    </tr>\n",
       "    <tr>\n",
       "      <th>Samsung</th>\n",
       "      <td>3.868852</td>\n",
       "      <td>61</td>\n",
       "    </tr>\n",
       "    <tr>\n",
       "      <th>Sony</th>\n",
       "      <td>4.488722</td>\n",
       "      <td>532</td>\n",
       "    </tr>\n",
       "    <tr>\n",
       "      <th>TaoTronics</th>\n",
       "      <td>4.235576</td>\n",
       "      <td>4177</td>\n",
       "    </tr>\n",
       "  </tbody>\n",
       "</table>\n",
       "</div>"
      ],
      "text/plain": [
       "              rating  num of ratings\n",
       "brand                               \n",
       "Bose        4.118012             483\n",
       "EldHus      4.505000             200\n",
       "Fintie      4.777778               9\n",
       "Logitech    4.166667               6\n",
       "Philips     2.475000              40\n",
       "Pyle        3.831787            3234\n",
       "Samsung     3.868852              61\n",
       "Sony        4.488722             532\n",
       "TaoTronics  4.235576            4177"
      ]
     },
     "execution_count": 233,
     "metadata": {},
     "output_type": "execute_result"
    }
   ],
   "source": [
    "Avarage_ratings_brand"
   ]
  },
  {
   "cell_type": "markdown",
   "metadata": {},
   "source": [
    "Prepare pivot  table brand vs  user_id"
   ]
  },
  {
   "cell_type": "code",
   "execution_count": 234,
   "metadata": {},
   "outputs": [
    {
     "data": {
      "text/html": [
       "<div>\n",
       "<style scoped>\n",
       "    .dataframe tbody tr th:only-of-type {\n",
       "        vertical-align: middle;\n",
       "    }\n",
       "\n",
       "    .dataframe tbody tr th {\n",
       "        vertical-align: top;\n",
       "    }\n",
       "\n",
       "    .dataframe thead th {\n",
       "        text-align: right;\n",
       "    }\n",
       "</style>\n",
       "<table border=\"1\" class=\"dataframe\">\n",
       "  <thead>\n",
       "    <tr style=\"text-align: right;\">\n",
       "      <th>user_id</th>\n",
       "      <th>127</th>\n",
       "      <th>131</th>\n",
       "      <th>134</th>\n",
       "      <th>138</th>\n",
       "      <th>147</th>\n",
       "      <th>150</th>\n",
       "      <th>154</th>\n",
       "      <th>157</th>\n",
       "      <th>165</th>\n",
       "      <th>260</th>\n",
       "      <th>...</th>\n",
       "      <th>941181</th>\n",
       "      <th>941477</th>\n",
       "      <th>941478</th>\n",
       "      <th>941492</th>\n",
       "      <th>941756</th>\n",
       "      <th>941768</th>\n",
       "      <th>941788</th>\n",
       "      <th>941850</th>\n",
       "      <th>941854</th>\n",
       "      <th>941858</th>\n",
       "    </tr>\n",
       "    <tr>\n",
       "      <th>brand</th>\n",
       "      <th></th>\n",
       "      <th></th>\n",
       "      <th></th>\n",
       "      <th></th>\n",
       "      <th></th>\n",
       "      <th></th>\n",
       "      <th></th>\n",
       "      <th></th>\n",
       "      <th></th>\n",
       "      <th></th>\n",
       "      <th></th>\n",
       "      <th></th>\n",
       "      <th></th>\n",
       "      <th></th>\n",
       "      <th></th>\n",
       "      <th></th>\n",
       "      <th></th>\n",
       "      <th></th>\n",
       "      <th></th>\n",
       "      <th></th>\n",
       "      <th></th>\n",
       "    </tr>\n",
       "  </thead>\n",
       "  <tbody>\n",
       "    <tr>\n",
       "      <th>Bose</th>\n",
       "      <td>0.0</td>\n",
       "      <td>0.0</td>\n",
       "      <td>0.0</td>\n",
       "      <td>0.0</td>\n",
       "      <td>0.0</td>\n",
       "      <td>0.0</td>\n",
       "      <td>0.0</td>\n",
       "      <td>0.0</td>\n",
       "      <td>0.0</td>\n",
       "      <td>0.0</td>\n",
       "      <td>...</td>\n",
       "      <td>0.0</td>\n",
       "      <td>0.0</td>\n",
       "      <td>0.0</td>\n",
       "      <td>0.0</td>\n",
       "      <td>0.0</td>\n",
       "      <td>0.0</td>\n",
       "      <td>0.0</td>\n",
       "      <td>0.0</td>\n",
       "      <td>0.0</td>\n",
       "      <td>0.0</td>\n",
       "    </tr>\n",
       "    <tr>\n",
       "      <th>EldHus</th>\n",
       "      <td>0.0</td>\n",
       "      <td>0.0</td>\n",
       "      <td>0.0</td>\n",
       "      <td>0.0</td>\n",
       "      <td>0.0</td>\n",
       "      <td>0.0</td>\n",
       "      <td>0.0</td>\n",
       "      <td>0.0</td>\n",
       "      <td>0.0</td>\n",
       "      <td>0.0</td>\n",
       "      <td>...</td>\n",
       "      <td>0.0</td>\n",
       "      <td>0.0</td>\n",
       "      <td>0.0</td>\n",
       "      <td>0.0</td>\n",
       "      <td>0.0</td>\n",
       "      <td>0.0</td>\n",
       "      <td>0.0</td>\n",
       "      <td>0.0</td>\n",
       "      <td>0.0</td>\n",
       "      <td>0.0</td>\n",
       "    </tr>\n",
       "    <tr>\n",
       "      <th>Fintie</th>\n",
       "      <td>0.0</td>\n",
       "      <td>0.0</td>\n",
       "      <td>0.0</td>\n",
       "      <td>0.0</td>\n",
       "      <td>0.0</td>\n",
       "      <td>0.0</td>\n",
       "      <td>0.0</td>\n",
       "      <td>0.0</td>\n",
       "      <td>0.0</td>\n",
       "      <td>0.0</td>\n",
       "      <td>...</td>\n",
       "      <td>0.0</td>\n",
       "      <td>0.0</td>\n",
       "      <td>0.0</td>\n",
       "      <td>0.0</td>\n",
       "      <td>0.0</td>\n",
       "      <td>0.0</td>\n",
       "      <td>0.0</td>\n",
       "      <td>0.0</td>\n",
       "      <td>0.0</td>\n",
       "      <td>0.0</td>\n",
       "    </tr>\n",
       "  </tbody>\n",
       "</table>\n",
       "<p>3 rows × 8708 columns</p>\n",
       "</div>"
      ],
      "text/plain": [
       "user_id  127     131     134     138     147     150     154     157     \\\n",
       "brand                                                                     \n",
       "Bose        0.0     0.0     0.0     0.0     0.0     0.0     0.0     0.0   \n",
       "EldHus      0.0     0.0     0.0     0.0     0.0     0.0     0.0     0.0   \n",
       "Fintie      0.0     0.0     0.0     0.0     0.0     0.0     0.0     0.0   \n",
       "\n",
       "user_id  165     260     ...  941181  941477  941478  941492  941756  941768  \\\n",
       "brand                    ...                                                   \n",
       "Bose        0.0     0.0  ...     0.0     0.0     0.0     0.0     0.0     0.0   \n",
       "EldHus      0.0     0.0  ...     0.0     0.0     0.0     0.0     0.0     0.0   \n",
       "Fintie      0.0     0.0  ...     0.0     0.0     0.0     0.0     0.0     0.0   \n",
       "\n",
       "user_id  941788  941850  941854  941858  \n",
       "brand                                    \n",
       "Bose        0.0     0.0     0.0     0.0  \n",
       "EldHus      0.0     0.0     0.0     0.0  \n",
       "Fintie      0.0     0.0     0.0     0.0  \n",
       "\n",
       "[3 rows x 8708 columns]"
      ]
     },
     "execution_count": 234,
     "metadata": {},
     "output_type": "execute_result"
    }
   ],
   "source": [
    "BRAND_NAME_1 = df1.pivot_table(index='brand',columns='user_id',values='rating').fillna(0)\n",
    "BRAND_NAME_1.head(3)"
   ]
  },
  {
   "cell_type": "markdown",
   "metadata": {},
   "source": [
    "#input  brand from the list"
   ]
  },
  {
   "cell_type": "code",
   "execution_count": 235,
   "metadata": {},
   "outputs": [],
   "source": [
    "Input_for_Brand=\"EldHus\""
   ]
  },
  {
   "cell_type": "markdown",
   "metadata": {},
   "source": [
    "#procedure"
   ]
  },
  {
   "cell_type": "code",
   "execution_count": 236,
   "metadata": {},
   "outputs": [],
   "source": [
    "User_input_Brand=le1.transform([Input_for_Brand])"
   ]
  },
  {
   "cell_type": "markdown",
   "metadata": {},
   "source": [
    "#fire user input Query to get the result"
   ]
  },
  {
   "cell_type": "code",
   "execution_count": 237,
   "metadata": {},
   "outputs": [],
   "source": [
    "query_point_Brand=BRAND_NAME_1.iloc[User_input_Brand,:].values.reshape(1, -1)"
   ]
  },
  {
   "cell_type": "markdown",
   "metadata": {},
   "source": [
    "#prepare unsuperviced learning  model"
   ]
  },
  {
   "cell_type": "code",
   "execution_count": 238,
   "metadata": {},
   "outputs": [
    {
     "data": {
      "text/plain": [
       "NearestNeighbors(algorithm='brute', metric='cosine')"
      ]
     },
     "execution_count": 238,
     "metadata": {},
     "output_type": "execute_result"
    }
   ],
   "source": [
    "BRAND_NAME_matrix_1 = csr_matrix(BRAND_NAME_1.values)\n",
    "model_knn_1 = NearestNeighbors(metric = 'cosine', algorithm = 'brute')\n",
    "model_knn_1.fit(BRAND_NAME_matrix_1)"
   ]
  },
  {
   "cell_type": "markdown",
   "metadata": {},
   "source": [
    "Findout cosine distance of other categories and indices with respect to the quary point , Minimum distance have maximum likelyhood for similar brand recomendation"
   ]
  },
  {
   "cell_type": "code",
   "execution_count": 239,
   "metadata": {},
   "outputs": [],
   "source": [
    "distances_1, indices_1 = model_knn_1.kneighbors(query_point_Brand, n_neighbors = 6)"
   ]
  },
  {
   "cell_type": "code",
   "execution_count": 240,
   "metadata": {},
   "outputs": [],
   "source": [
    "l3=[]\n",
    "for i in range(0, len(distances_1.flatten())):\n",
    "    l4=BRAND_NAME_1.index[indices.flatten()[i]].split(',')\n",
    "    l3.append(l4)"
   ]
  },
  {
   "cell_type": "code",
   "execution_count": 241,
   "metadata": {},
   "outputs": [],
   "source": [
    "l3 =pd.DataFrame(l3,columns=['brand'])"
   ]
  },
  {
   "cell_type": "code",
   "execution_count": 242,
   "metadata": {},
   "outputs": [],
   "source": [
    "#list down similar brand"
   ]
  },
  {
   "cell_type": "code",
   "execution_count": 243,
   "metadata": {},
   "outputs": [
    {
     "data": {
      "text/html": [
       "<div>\n",
       "<style scoped>\n",
       "    .dataframe tbody tr th:only-of-type {\n",
       "        vertical-align: middle;\n",
       "    }\n",
       "\n",
       "    .dataframe tbody tr th {\n",
       "        vertical-align: top;\n",
       "    }\n",
       "\n",
       "    .dataframe thead th {\n",
       "        text-align: right;\n",
       "    }\n",
       "</style>\n",
       "<table border=\"1\" class=\"dataframe\">\n",
       "  <thead>\n",
       "    <tr style=\"text-align: right;\">\n",
       "      <th></th>\n",
       "      <th>brand</th>\n",
       "    </tr>\n",
       "  </thead>\n",
       "  <tbody>\n",
       "    <tr>\n",
       "      <th>0</th>\n",
       "      <td>Pyle</td>\n",
       "    </tr>\n",
       "    <tr>\n",
       "      <th>1</th>\n",
       "      <td>Philips</td>\n",
       "    </tr>\n",
       "    <tr>\n",
       "      <th>2</th>\n",
       "      <td>Logitech</td>\n",
       "    </tr>\n",
       "    <tr>\n",
       "      <th>3</th>\n",
       "      <td>Samsung</td>\n",
       "    </tr>\n",
       "    <tr>\n",
       "      <th>4</th>\n",
       "      <td>Bose</td>\n",
       "    </tr>\n",
       "    <tr>\n",
       "      <th>5</th>\n",
       "      <td>EldHus</td>\n",
       "    </tr>\n",
       "  </tbody>\n",
       "</table>\n",
       "</div>"
      ],
      "text/plain": [
       "      brand\n",
       "0      Pyle\n",
       "1   Philips\n",
       "2  Logitech\n",
       "3   Samsung\n",
       "4      Bose\n",
       "5    EldHus"
      ]
     },
     "execution_count": 243,
     "metadata": {},
     "output_type": "execute_result"
    }
   ],
   "source": [
    "l3"
   ]
  },
  {
   "cell_type": "code",
   "execution_count": 244,
   "metadata": {},
   "outputs": [],
   "source": [
    "choice_of_brand=l3.merge(Avarage_ratings_brand, how='inner', on='brand')\n",
    "choice_of_brand['category']=U_input\n"
   ]
  },
  {
   "cell_type": "code",
   "execution_count": 245,
   "metadata": {},
   "outputs": [
    {
     "data": {
      "text/html": [
       "<div>\n",
       "<style scoped>\n",
       "    .dataframe tbody tr th:only-of-type {\n",
       "        vertical-align: middle;\n",
       "    }\n",
       "\n",
       "    .dataframe tbody tr th {\n",
       "        vertical-align: top;\n",
       "    }\n",
       "\n",
       "    .dataframe thead th {\n",
       "        text-align: right;\n",
       "    }\n",
       "</style>\n",
       "<table border=\"1\" class=\"dataframe\">\n",
       "  <thead>\n",
       "    <tr style=\"text-align: right;\">\n",
       "      <th></th>\n",
       "      <th>brand</th>\n",
       "      <th>rating</th>\n",
       "      <th>num of ratings</th>\n",
       "      <th>category</th>\n",
       "    </tr>\n",
       "  </thead>\n",
       "  <tbody>\n",
       "    <tr>\n",
       "      <th>0</th>\n",
       "      <td>Pyle</td>\n",
       "      <td>3.831787</td>\n",
       "      <td>3234</td>\n",
       "      <td>Home Audio</td>\n",
       "    </tr>\n",
       "    <tr>\n",
       "      <th>1</th>\n",
       "      <td>Philips</td>\n",
       "      <td>2.475000</td>\n",
       "      <td>40</td>\n",
       "      <td>Home Audio</td>\n",
       "    </tr>\n",
       "    <tr>\n",
       "      <th>2</th>\n",
       "      <td>Logitech</td>\n",
       "      <td>4.166667</td>\n",
       "      <td>6</td>\n",
       "      <td>Home Audio</td>\n",
       "    </tr>\n",
       "    <tr>\n",
       "      <th>3</th>\n",
       "      <td>Samsung</td>\n",
       "      <td>3.868852</td>\n",
       "      <td>61</td>\n",
       "      <td>Home Audio</td>\n",
       "    </tr>\n",
       "    <tr>\n",
       "      <th>4</th>\n",
       "      <td>Bose</td>\n",
       "      <td>4.118012</td>\n",
       "      <td>483</td>\n",
       "      <td>Home Audio</td>\n",
       "    </tr>\n",
       "    <tr>\n",
       "      <th>5</th>\n",
       "      <td>EldHus</td>\n",
       "      <td>4.505000</td>\n",
       "      <td>200</td>\n",
       "      <td>Home Audio</td>\n",
       "    </tr>\n",
       "  </tbody>\n",
       "</table>\n",
       "</div>"
      ],
      "text/plain": [
       "      brand    rating  num of ratings    category\n",
       "0      Pyle  3.831787            3234  Home Audio\n",
       "1   Philips  2.475000              40  Home Audio\n",
       "2  Logitech  4.166667               6  Home Audio\n",
       "3   Samsung  3.868852              61  Home Audio\n",
       "4      Bose  4.118012             483  Home Audio\n",
       "5    EldHus  4.505000             200  Home Audio"
      ]
     },
     "execution_count": 245,
     "metadata": {},
     "output_type": "execute_result"
    }
   ],
   "source": [
    "choice_of_brand"
   ]
  },
  {
   "cell_type": "code",
   "execution_count": 246,
   "metadata": {},
   "outputs": [
    {
     "data": {
      "text/html": [
       "<div>\n",
       "<style scoped>\n",
       "    .dataframe tbody tr th:only-of-type {\n",
       "        vertical-align: middle;\n",
       "    }\n",
       "\n",
       "    .dataframe tbody tr th {\n",
       "        vertical-align: top;\n",
       "    }\n",
       "\n",
       "    .dataframe thead th {\n",
       "        text-align: right;\n",
       "    }\n",
       "</style>\n",
       "<table border=\"1\" class=\"dataframe\">\n",
       "  <thead>\n",
       "    <tr style=\"text-align: right;\">\n",
       "      <th></th>\n",
       "      <th>brand</th>\n",
       "      <th>rating</th>\n",
       "      <th>num of ratings</th>\n",
       "      <th>category</th>\n",
       "    </tr>\n",
       "  </thead>\n",
       "  <tbody>\n",
       "    <tr>\n",
       "      <th>5</th>\n",
       "      <td>EldHus</td>\n",
       "      <td>4.505000</td>\n",
       "      <td>200</td>\n",
       "      <td>Home Audio</td>\n",
       "    </tr>\n",
       "    <tr>\n",
       "      <th>2</th>\n",
       "      <td>Logitech</td>\n",
       "      <td>4.166667</td>\n",
       "      <td>6</td>\n",
       "      <td>Home Audio</td>\n",
       "    </tr>\n",
       "    <tr>\n",
       "      <th>4</th>\n",
       "      <td>Bose</td>\n",
       "      <td>4.118012</td>\n",
       "      <td>483</td>\n",
       "      <td>Home Audio</td>\n",
       "    </tr>\n",
       "    <tr>\n",
       "      <th>3</th>\n",
       "      <td>Samsung</td>\n",
       "      <td>3.868852</td>\n",
       "      <td>61</td>\n",
       "      <td>Home Audio</td>\n",
       "    </tr>\n",
       "    <tr>\n",
       "      <th>0</th>\n",
       "      <td>Pyle</td>\n",
       "      <td>3.831787</td>\n",
       "      <td>3234</td>\n",
       "      <td>Home Audio</td>\n",
       "    </tr>\n",
       "    <tr>\n",
       "      <th>1</th>\n",
       "      <td>Philips</td>\n",
       "      <td>2.475000</td>\n",
       "      <td>40</td>\n",
       "      <td>Home Audio</td>\n",
       "    </tr>\n",
       "  </tbody>\n",
       "</table>\n",
       "</div>"
      ],
      "text/plain": [
       "      brand    rating  num of ratings    category\n",
       "5    EldHus  4.505000             200  Home Audio\n",
       "2  Logitech  4.166667               6  Home Audio\n",
       "4      Bose  4.118012             483  Home Audio\n",
       "3   Samsung  3.868852              61  Home Audio\n",
       "0      Pyle  3.831787            3234  Home Audio\n",
       "1   Philips  2.475000              40  Home Audio"
      ]
     },
     "execution_count": 246,
     "metadata": {},
     "output_type": "execute_result"
    }
   ],
   "source": [
    "choice_of_brand.sort_values(by ='rating', ascending = 0)"
   ]
  },
  {
   "cell_type": "code",
   "execution_count": 247,
   "metadata": {},
   "outputs": [],
   "source": [
    "Result_data=l2.merge(choice_of_brand, how='left', on='category')"
   ]
  },
  {
   "cell_type": "markdown",
   "metadata": {},
   "source": [
    "Final result cointains of brand recomendation as well as category recomendation for particular brand and category"
   ]
  },
  {
   "cell_type": "code",
   "execution_count": 248,
   "metadata": {},
   "outputs": [
    {
     "data": {
      "text/html": [
       "<div>\n",
       "<style scoped>\n",
       "    .dataframe tbody tr th:only-of-type {\n",
       "        vertical-align: middle;\n",
       "    }\n",
       "\n",
       "    .dataframe tbody tr th {\n",
       "        vertical-align: top;\n",
       "    }\n",
       "\n",
       "    .dataframe thead th {\n",
       "        text-align: right;\n",
       "    }\n",
       "</style>\n",
       "<table border=\"1\" class=\"dataframe\">\n",
       "  <thead>\n",
       "    <tr style=\"text-align: right;\">\n",
       "      <th></th>\n",
       "      <th>category</th>\n",
       "      <th>brand</th>\n",
       "      <th>rating</th>\n",
       "      <th>num of ratings</th>\n",
       "    </tr>\n",
       "  </thead>\n",
       "  <tbody>\n",
       "    <tr>\n",
       "      <th>5</th>\n",
       "      <td>Home Audio</td>\n",
       "      <td>EldHus</td>\n",
       "      <td>4.505</td>\n",
       "      <td>200</td>\n",
       "    </tr>\n",
       "    <tr>\n",
       "      <th>2</th>\n",
       "      <td>Home Audio</td>\n",
       "      <td>Logitech</td>\n",
       "      <td>4.16667</td>\n",
       "      <td>6</td>\n",
       "    </tr>\n",
       "    <tr>\n",
       "      <th>4</th>\n",
       "      <td>Home Audio</td>\n",
       "      <td>Bose</td>\n",
       "      <td>4.11801</td>\n",
       "      <td>483</td>\n",
       "    </tr>\n",
       "    <tr>\n",
       "      <th>3</th>\n",
       "      <td>Home Audio</td>\n",
       "      <td>Samsung</td>\n",
       "      <td>3.86885</td>\n",
       "      <td>61</td>\n",
       "    </tr>\n",
       "    <tr>\n",
       "      <th>0</th>\n",
       "      <td>Home Audio</td>\n",
       "      <td>Pyle</td>\n",
       "      <td>3.83179</td>\n",
       "      <td>3234</td>\n",
       "    </tr>\n",
       "    <tr>\n",
       "      <th>1</th>\n",
       "      <td>Home Audio</td>\n",
       "      <td>Philips</td>\n",
       "      <td>2.475</td>\n",
       "      <td>40</td>\n",
       "    </tr>\n",
       "    <tr>\n",
       "      <th>6</th>\n",
       "      <td>Headphones</td>\n",
       "      <td>also recomended</td>\n",
       "      <td>also recomended</td>\n",
       "      <td>also recomended</td>\n",
       "    </tr>\n",
       "    <tr>\n",
       "      <th>7</th>\n",
       "      <td>Computers &amp; Accessories</td>\n",
       "      <td>also recomended</td>\n",
       "      <td>also recomended</td>\n",
       "      <td>also recomended</td>\n",
       "    </tr>\n",
       "    <tr>\n",
       "      <th>8</th>\n",
       "      <td>Portable Audio &amp; Video</td>\n",
       "      <td>also recomended</td>\n",
       "      <td>also recomended</td>\n",
       "      <td>also recomended</td>\n",
       "    </tr>\n",
       "    <tr>\n",
       "      <th>9</th>\n",
       "      <td>Accessories &amp; Supplies</td>\n",
       "      <td>also recomended</td>\n",
       "      <td>also recomended</td>\n",
       "      <td>also recomended</td>\n",
       "    </tr>\n",
       "    <tr>\n",
       "      <th>10</th>\n",
       "      <td>Camera &amp; Photo</td>\n",
       "      <td>also recomended</td>\n",
       "      <td>also recomended</td>\n",
       "      <td>also recomended</td>\n",
       "    </tr>\n",
       "  </tbody>\n",
       "</table>\n",
       "</div>"
      ],
      "text/plain": [
       "                   category            brand           rating   num of ratings\n",
       "5                Home Audio           EldHus            4.505              200\n",
       "2                Home Audio         Logitech          4.16667                6\n",
       "4                Home Audio             Bose          4.11801              483\n",
       "3                Home Audio          Samsung          3.86885               61\n",
       "0                Home Audio             Pyle          3.83179             3234\n",
       "1                Home Audio          Philips            2.475               40\n",
       "6                Headphones  also recomended  also recomended  also recomended\n",
       "7   Computers & Accessories  also recomended  also recomended  also recomended\n",
       "8    Portable Audio & Video  also recomended  also recomended  also recomended\n",
       "9    Accessories & Supplies  also recomended  also recomended  also recomended\n",
       "10           Camera & Photo  also recomended  also recomended  also recomended"
      ]
     },
     "execution_count": 248,
     "metadata": {},
     "output_type": "execute_result"
    }
   ],
   "source": [
    "Result_data.sort_values(by ='rating', ascending = 0).fillna(\"also recomended\")"
   ]
  }
 ],
 "metadata": {
  "kernelspec": {
   "display_name": "Python 3.8.2 64-bit",
   "language": "python",
   "name": "python38264bit3cc16507011a48e5ad6af447e61a847b"
  },
  "language_info": {
   "codemirror_mode": {
    "name": "ipython",
    "version": 3
   },
   "file_extension": ".py",
   "mimetype": "text/x-python",
   "name": "python",
   "nbconvert_exporter": "python",
   "pygments_lexer": "ipython3",
   "version": "3.8.2"
  }
 },
 "nbformat": 4,
 "nbformat_minor": 4
}
